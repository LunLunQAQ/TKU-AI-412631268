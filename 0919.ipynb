{
  "nbformat": 4,
  "nbformat_minor": 0,
  "metadata": {
    "colab": {
      "provenance": [],
      "authorship_tag": "ABX9TyPf6JkLX5bVo0TUQ9dDNopk",
      "include_colab_link": true
    },
    "kernelspec": {
      "name": "python3",
      "display_name": "Python 3"
    },
    "language_info": {
      "name": "python"
    }
  },
  "cells": [
    {
      "cell_type": "markdown",
      "metadata": {
        "id": "view-in-github",
        "colab_type": "text"
      },
      "source": [
        "<a href=\"https://colab.research.google.com/github/LunLunQAQ/TKU-AI-412631268/blob/main/0919.ipynb\" target=\"_parent\"><img src=\"https://colab.research.google.com/assets/colab-badge.svg\" alt=\"Open In Colab\"/></a>"
      ]
    },
    {
      "cell_type": "code",
      "execution_count": 1,
      "metadata": {
        "id": "8SyS60mlVSYg",
        "colab": {
          "base_uri": "https://localhost:8080/"
        },
        "outputId": "d9ffaed1-06b7-4693-a366-62afc9f43f02"
      },
      "outputs": [
        {
          "output_type": "stream",
          "name": "stdout",
          "text": [
            "Hi\n"
          ]
        }
      ],
      "source": [
        "print(\"Hi\")"
      ]
    },
    {
      "cell_type": "code",
      "source": [
        "print(\"Hello\")"
      ],
      "metadata": {
        "colab": {
          "base_uri": "https://localhost:8080/"
        },
        "id": "sTTqcSglWQy9",
        "outputId": "9632ea23-784e-40cc-f5ce-7e9091489fec"
      },
      "execution_count": 2,
      "outputs": [
        {
          "output_type": "stream",
          "name": "stdout",
          "text": [
            "Hello\n"
          ]
        }
      ]
    },
    {
      "cell_type": "markdown",
      "source": [
        "Hi\n"
      ],
      "metadata": {
        "id": "1W_pnv-9WizQ"
      }
    },
    {
      "cell_type": "code",
      "source": [],
      "metadata": {
        "id": "BGDW1O6YWk6A"
      },
      "execution_count": null,
      "outputs": []
    }
  ]
}